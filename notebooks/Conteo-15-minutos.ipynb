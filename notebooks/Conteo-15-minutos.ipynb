{
 "cells": [
  {
   "cell_type": "code",
   "execution_count": 1,
   "metadata": {
    "collapsed": true
   },
   "outputs": [],
   "source": [
    "%matplotlib inline\n",
    "from matplotlib.pyplot import *\n",
    "from numpy import *\n",
    "from scipy.stats import poisson # carga las funciones asociadas a la distr. de Poisson"
   ]
  },
  {
   "cell_type": "markdown",
   "metadata": {},
   "source": [
    "Primero cargamos los datos de tiempos de detección desde el archivo `conteo-15-minutos.txt`."
   ]
  },
  {
   "cell_type": "code",
   "execution_count": 2,
   "metadata": {
    "collapsed": false
   },
   "outputs": [],
   "source": [
    "t = genfromtxt('conteo-15-minutos.txt')"
   ]
  },
  {
   "cell_type": "markdown",
   "metadata": {},
   "source": [
    "Imprimimos el número de datos:"
   ]
  },
  {
   "cell_type": "code",
   "execution_count": 3,
   "metadata": {
    "collapsed": false
   },
   "outputs": [
    {
     "name": "stdout",
     "output_type": "stream",
     "text": [
      "1792\n"
     ]
    }
   ],
   "source": [
    "print(len(t))"
   ]
  },
  {
   "cell_type": "markdown",
   "metadata": {},
   "source": [
    "Ahora graficamos algunos eventos, indicando los tiempos (en segundos) en que se detectaron:"
   ]
  },
  {
   "cell_type": "code",
   "execution_count": 4,
   "metadata": {
    "collapsed": false
   },
   "outputs": [
    {
     "data": {
      "image/png": "[encoded data removed]",
      "text/plain": [
       "<matplotlib.figure.Figure at 0x7fb283aa73d0>"
      ]
     },
     "metadata": {},
     "output_type": "display_data"
    }
   ],
   "source": [
    "figure(figsize=(20,1))\n",
    "segundos=10 # cambiar este parámetro para graficar más segundos\n",
    "mask=t<segundos\n",
    "scatter(t[mask],0*t[mask], s=100)\n",
    "xlim(-1,segundos+1)\n",
    "yticks([])\n",
    "xticks(range(segundos))\n",
    "grid()"
   ]
  },
  {
   "cell_type": "markdown",
   "metadata": {},
   "source": [
    "Ahora definimos las \"ventanas\" de los valores de los tiempos en que se realizará el conteo:"
   ]
  },
  {
   "cell_type": "code",
   "execution_count": 5,
   "metadata": {
    "collapsed": false
   },
   "outputs": [
    {
     "name": "stdout",
     "output_type": "stream",
     "text": [
      "[  0   1   2   3   4   5   6   7   8   9  10  11  12  13  14  15  16  17\n",
      "  18  19  20  21  22  23  24  25  26  27  28  29  30  31  32  33  34  35\n",
      "  36  37  38  39  40  41  42  43  44  45  46  47  48  49  50  51  52  53\n",
      "  54  55  56  57  58  59  60  61  62  63  64  65  66  67  68  69  70  71\n",
      "  72  73  74  75  76  77  78  79  80  81  82  83  84  85  86  87  88  89\n",
      "  90  91  92  93  94  95  96  97  98  99 100 101 102 103 104 105 106 107\n",
      " 108 109 110 111 112 113 114 115 116 117 118 119 120 121 122 123 124 125\n",
      " 126 127 128 129 130 131 132 133 134 135 136 137 138 139 140 141 142 143\n",
      " 144 145 146 147 148 149 150 151 152 153 154 155 156 157 158 159 160 161\n",
      " 162 163 164 165 166 167 168 169 170 171 172 173 174 175 176 177 178 179\n",
      " 180 181 182 183 184 185 186 187 188 189 190 191 192 193 194 195 196 197\n",
      " 198 199 200 201 202 203 204 205 206 207 208 209 210 211 212 213 214 215\n",
      " 216 217 218 219 220 221 222 223 224 225 226 227 228 229 230 231 232 233\n",
      " 234 235 236 237 238 239 240 241 242 243 244 245 246 247 248 249 250 251\n",
      " 252 253 254 255 256 257 258 259 260 261 262 263 264 265 266 267 268 269\n",
      " 270 271 272 273 274 275 276 277 278 279 280 281 282 283 284 285 286 287\n",
      " 288 289 290 291 292 293 294 295 296 297 298 299 300 301 302 303 304 305\n",
      " 306 307 308 309 310 311 312 313 314 315 316 317 318 319 320 321 322 323\n",
      " 324 325 326 327 328 329 330 331 332 333 334 335 336 337 338 339 340 341\n",
      " 342 343 344 345 346 347 348 349 350 351 352 353 354 355 356 357 358 359\n",
      " 360 361 362 363 364 365 366 367 368 369 370 371 372 373 374 375 376 377\n",
      " 378 379 380 381 382 383 384 385 386 387 388 389 390 391 392 393 394 395\n",
      " 396 397 398 399 400 401 402 403 404 405 406 407 408 409 410 411 412 413\n",
      " 414 415 416 417 418 419 420 421 422 423 424 425 426 427 428 429 430 431\n",
      " 432 433 434 435 436 437 438 439 440 441 442 443 444 445 446 447 448 449\n",
      " 450 451 452 453 454 455 456 457 458 459 460 461 462 463 464 465 466 467\n",
      " 468 469 470 471 472 473 474 475 476 477 478 479 480 481 482 483 484 485\n",
      " 486 487 488 489 490 491 492 493 494 495 496 497 498 499 500 501 502 503\n",
      " 504 505 506 507 508 509 510 511 512 513 514 515 516 517 518 519 520 521\n",
      " 522 523 524 525 526 527 528 529 530 531 532 533 534 535 536 537 538 539\n",
      " 540 541 542 543 544 545 546 547 548 549 550 551 552 553 554 555 556 557\n",
      " 558 559 560 561 562 563 564 565 566 567 568 569 570 571 572 573 574 575\n",
      " 576 577 578 579 580 581 582 583 584 585 586 587 588 589 590 591 592 593\n",
      " 594 595 596 597 598 599 600 601 602 603 604 605 606 607 608 609 610 611\n",
      " 612 613 614 615 616 617 618 619 620 621 622 623 624 625 626 627 628 629\n",
      " 630 631 632 633 634 635 636 637 638 639 640 641 642 643 644 645 646 647\n",
      " 648 649 650 651 652 653 654 655 656 657 658 659 660 661 662 663 664 665\n",
      " 666 667 668 669 670 671 672 673 674 675 676 677 678 679 680 681 682 683\n",
      " 684 685 686 687 688 689 690 691 692 693 694 695 696 697 698 699 700 701\n",
      " 702 703 704 705 706 707 708 709 710 711 712 713 714 715 716 717 718 719\n",
      " 720 721 722 723 724 725 726 727 728 729 730 731 732 733 734 735 736 737\n",
      " 738 739 740 741 742 743 744 745 746 747 748 749 750 751 752 753 754 755\n",
      " 756 757 758 759 760 761 762 763 764 765 766 767 768 769 770 771 772 773\n",
      " 774 775 776 777 778 779 780 781 782 783 784 785 786 787 788 789 790 791\n",
      " 792 793 794 795 796 797 798 799 800 801 802 803 804 805 806 807 808 809\n",
      " 810 811 812 813 814 815 816 817 818 819 820 821 822 823 824 825 826 827\n",
      " 828 829 830 831 832 833 834 835 836 837 838 839 840 841 842 843 844 845\n",
      " 846 847 848 849 850 851 852 853 854 855 856 857 858 859 860 861 862 863\n",
      " 864 865 866 867 868 869 870 871 872 873 874 875 876 877 878 879 880 881\n",
      " 882 883 884 885 886 887 888 889 890 891 892 893 894 895 896 897 898 899\n",
      " 900]\n"
     ]
    }
   ],
   "source": [
    "ventanas1=arange(int(t[-1]+2))\n",
    "print(ventanas1)"
   ]
  },
  {
   "cell_type": "markdown",
   "metadata": {},
   "source": [
    "Usamos esas ventanas, para contar cuántos eventos se detectaron en cada ventana (es decir, en intervalos de 1 segundo). Para eso, usamos la función `histogram` de Numpy."
   ]
  },
  {
   "cell_type": "code",
   "execution_count": 6,
   "metadata": {
    "collapsed": false
   },
   "outputs": [
    {
     "data": {
      "text/plain": [
       "(array([ 3,  3,  3,  3,  0,  4,  2,  1,  2,  2,  0,  2,  1,  0,  2,  2,  2,\n",
       "         1,  5,  3,  3,  1,  1,  0,  0,  6,  3,  1,  0,  2,  3,  0,  1,  4,\n",
       "         2,  0,  4,  3,  5,  0,  0,  0,  2,  1,  2,  1,  0,  2,  2,  3,  1,\n",
       "         1,  0,  3,  2,  0,  4,  3,  3,  2,  2,  3,  1,  7,  1,  7,  2,  2,\n",
       "         2,  1,  1,  0,  2,  2,  1,  1,  0,  0,  0,  0,  1,  1,  2,  1,  2,\n",
       "         2,  5,  0,  2,  2,  0,  2,  2,  2,  1,  1,  1,  5,  3,  0,  3,  2,\n",
       "         3,  4,  1,  0,  1,  2,  3,  2,  1,  1,  0,  2,  5,  4,  1,  2,  1,\n",
       "         0,  3,  2,  2,  6,  2,  3,  1,  0,  0,  2,  5,  3,  2,  0,  1,  3,\n",
       "         0,  3,  2,  3,  3,  2,  1,  4,  1,  4,  3,  1,  4,  4,  1,  0,  4,\n",
       "         2,  5,  0,  3,  1,  3,  1,  3,  2,  4,  5,  0,  2,  1,  3,  2,  0,\n",
       "         2,  1,  0,  1,  1,  4,  1,  2,  2,  1,  2,  2,  3,  3,  2,  1,  2,\n",
       "         1,  1,  2,  3,  2,  4,  4,  3,  5,  2,  6,  0,  1,  0,  1,  1,  3,\n",
       "         4,  0,  2,  3,  1,  0,  1,  4,  4,  1,  3,  0,  4,  2,  1,  0,  3,\n",
       "         0,  2,  4,  1,  1,  3,  2,  5,  1,  2,  2,  1,  0,  2,  1,  2,  0,\n",
       "         1,  5,  1,  1,  3,  3,  3,  4,  2,  4,  4,  1,  1,  1,  2,  1,  5,\n",
       "         3,  4,  1,  0,  2,  1,  3,  0,  3,  5,  2,  3,  3,  1,  0,  1,  1,\n",
       "         2, 10,  3,  1,  3,  2,  1,  2,  3,  1,  1,  2,  2,  1,  1,  0,  2,\n",
       "         2,  2,  4,  1,  1,  3,  2,  0,  2,  5,  1,  2,  0,  3,  1,  3,  1,\n",
       "         0,  1,  1,  0,  3,  2,  1,  2,  2,  1,  1,  1,  0,  1,  2,  2,  2,\n",
       "         1,  0,  6,  2,  3,  2,  3,  1,  0,  1,  6,  0,  3,  1,  1,  1,  3,\n",
       "         2,  1,  1,  5,  2,  1,  2,  3,  2,  3,  1,  2,  4,  0,  6,  2,  2,\n",
       "         0,  1,  3,  1,  1,  0,  1,  0,  1,  2,  3,  2,  1,  2,  0,  0,  2,\n",
       "         4,  0,  0,  2,  1,  2,  2,  2,  1,  3,  1,  2,  1,  1,  2,  2,  3,\n",
       "         4,  2,  0,  1,  0,  1,  1,  1,  2,  2,  1,  3,  2,  2,  0,  0,  0,\n",
       "         2,  2,  2,  2,  3,  3,  1,  1,  1,  0,  2,  2,  2,  3,  1,  2,  2,\n",
       "         0,  1,  3,  1,  2,  1,  2,  2,  4,  6,  4,  4,  2,  1,  0,  1,  3,\n",
       "         0,  2,  2,  1,  2,  2,  1,  0,  2,  2,  3,  1,  3,  6,  2,  2,  3,\n",
       "         2,  0,  4,  1,  4,  1,  2,  3,  4,  0,  2,  3,  3,  0,  3,  2,  2,\n",
       "         2,  5,  2,  5,  0,  1,  6,  0,  2,  2,  2,  3,  1,  2,  3,  0,  4,\n",
       "         3,  1,  1,  1,  2,  3,  3,  2,  3,  1,  3,  0,  4,  2,  3,  3,  1,\n",
       "         0,  3,  2,  3,  2,  1,  1,  4,  3,  6,  2,  0,  1,  3,  1,  2,  4,\n",
       "         0,  2,  4,  3,  0,  0,  1,  1,  0,  1,  0,  0,  3,  4,  2,  0,  5,\n",
       "         1,  4,  1,  2,  3,  3,  0,  3,  1,  1,  1,  3,  0,  5,  1,  4,  0,\n",
       "         3,  2,  3,  2,  3,  3,  3,  0,  3,  2,  2,  0,  5,  0,  4,  2,  3,\n",
       "         3,  1,  2,  2,  3,  1,  0,  3,  3,  4,  1,  1,  1,  2,  2,  1,  4,\n",
       "         2,  2,  1,  3,  2,  0,  2,  4,  1,  1,  2,  2,  2,  2,  2,  3,  2,\n",
       "         2,  0,  5,  2,  4,  4,  1,  1,  3,  2,  5,  2,  1,  0,  2,  1,  2,\n",
       "         2,  3,  1,  0,  2,  2,  4,  1,  1,  3,  2,  0,  1,  4,  2,  1,  3,\n",
       "         4,  1,  0,  0,  0,  3,  2,  0,  4,  4,  3,  2,  3,  1,  3,  2,  0,\n",
       "         4,  0,  1,  0,  2,  1,  0,  0,  3,  2,  3,  0,  2,  1,  2,  3,  0,\n",
       "         5,  0,  1,  3,  2,  5,  4,  4,  1,  2,  1,  2,  2,  2,  2,  2,  1,\n",
       "         2,  3,  1,  3,  2,  2,  0,  3,  0,  0,  4,  0,  1,  1,  3,  0,  1,\n",
       "         1,  4,  3,  5,  3,  2,  0,  1,  1,  0,  3,  2,  3,  2,  2,  3,  4,\n",
       "         2,  1,  0,  1,  2,  2,  2,  1,  2,  3,  3,  2,  0,  3,  4,  4,  3,\n",
       "         0,  3,  1,  4,  0,  3,  2,  4,  2,  2,  3,  2,  1,  4,  0,  5,  3,\n",
       "         4,  0,  4,  4,  4,  2,  0,  2,  2,  0,  3,  1,  0,  2,  0,  3,  3,\n",
       "         3,  2,  4,  2,  1,  0,  1,  2,  4,  1,  2,  2,  7,  2,  3,  1,  4,\n",
       "         2,  1,  3,  3,  0,  2,  2,  2,  1,  4,  0,  5,  2,  2,  7,  3,  2,\n",
       "         4,  3,  5,  2,  2,  2,  0,  3,  1,  1,  4,  3,  2,  2,  1,  1,  1,\n",
       "         4,  2,  3,  2,  0,  2,  4,  0,  3,  2,  0,  2,  4,  0,  3,  1,  1,\n",
       "         0,  1,  1,  6,  1,  2,  1,  2,  2,  1,  1,  0,  3,  5,  1,  3,  2,\n",
       "         5,  3,  4,  3,  3,  2,  3,  1,  2,  2,  3,  1,  3,  4,  2,  3,  2,\n",
       "         2,  0,  3,  2,  2,  2,  1,  2,  4,  2,  2,  3,  1,  3,  1,  3]),\n",
       " array([  0,   1,   2,   3,   4,   5,   6,   7,   8,   9,  10,  11,  12,\n",
       "         13,  14,  15,  16,  17,  18,  19,  20,  21,  22,  23,  24,  25,\n",
       "         26,  27,  28,  29,  30,  31,  32,  33,  34,  35,  36,  37,  38,\n",
       "         39,  40,  41,  42,  43,  44,  45,  46,  47,  48,  49,  50,  51,\n",
       "         52,  53,  54,  55,  56,  57,  58,  59,  60,  61,  62,  63,  64,\n",
       "         65,  66,  67,  68,  69,  70,  71,  72,  73,  74,  75,  76,  77,\n",
       "         78,  79,  80,  81,  82,  83,  84,  85,  86,  87,  88,  89,  90,\n",
       "         91,  92,  93,  94,  95,  96,  97,  98,  99, 100, 101, 102, 103,\n",
       "        104, 105, 106, 107, 108, 109, 110, 111, 112, 113, 114, 115, 116,\n",
       "        117, 118, 119, 120, 121, 122, 123, 124, 125, 126, 127, 128, 129,\n",
       "        130, 131, 132, 133, 134, 135, 136, 137, 138, 139, 140, 141, 142,\n",
       "        143, 144, 145, 146, 147, 148, 149, 150, 151, 152, 153, 154, 155,\n",
       "        156, 157, 158, 159, 160, 161, 162, 163, 164, 165, 166, 167, 168,\n",
       "        169, 170, 171, 172, 173, 174, 175, 176, 177, 178, 179, 180, 181,\n",
       "        182, 183, 184, 185, 186, 187, 188, 189, 190, 191, 192, 193, 194,\n",
       "        195, 196, 197, 198, 199, 200, 201, 202, 203, 204, 205, 206, 207,\n",
       "        208, 209, 210, 211, 212, 213, 214, 215, 216, 217, 218, 219, 220,\n",
       "        221, 222, 223, 224, 225, 226, 227, 228, 229, 230, 231, 232, 233,\n",
       "        234, 235, 236, 237, 238, 239, 240, 241, 242, 243, 244, 245, 246,\n",
       "        247, 248, 249, 250, 251, 252, 253, 254, 255, 256, 257, 258, 259,\n",
       "        260, 261, 262, 263, 264, 265, 266, 267, 268, 269, 270, 271, 272,\n",
       "        273, 274, 275, 276, 277, 278, 279, 280, 281, 282, 283, 284, 285,\n",
       "        286, 287, 288, 289, 290, 291, 292, 293, 294, 295, 296, 297, 298,\n",
       "        299, 300, 301, 302, 303, 304, 305, 306, 307, 308, 309, 310, 311,\n",
       "        312, 313, 314, 315, 316, 317, 318, 319, 320, 321, 322, 323, 324,\n",
       "        325, 326, 327, 328, 329, 330, 331, 332, 333, 334, 335, 336, 337,\n",
       "        338, 339, 340, 341, 342, 343, 344, 345, 346, 347, 348, 349, 350,\n",
       "        351, 352, 353, 354, 355, 356, 357, 358, 359, 360, 361, 362, 363,\n",
       "        364, 365, 366, 367, 368, 369, 370, 371, 372, 373, 374, 375, 376,\n",
       "        377, 378, 379, 380, 381, 382, 383, 384, 385, 386, 387, 388, 389,\n",
       "        390, 391, 392, 393, 394, 395, 396, 397, 398, 399, 400, 401, 402,\n",
       "        403, 404, 405, 406, 407, 408, 409, 410, 411, 412, 413, 414, 415,\n",
       "        416, 417, 418, 419, 420, 421, 422, 423, 424, 425, 426, 427, 428,\n",
       "        429, 430, 431, 432, 433, 434, 435, 436, 437, 438, 439, 440, 441,\n",
       "        442, 443, 444, 445, 446, 447, 448, 449, 450, 451, 452, 453, 454,\n",
       "        455, 456, 457, 458, 459, 460, 461, 462, 463, 464, 465, 466, 467,\n",
       "        468, 469, 470, 471, 472, 473, 474, 475, 476, 477, 478, 479, 480,\n",
       "        481, 482, 483, 484, 485, 486, 487, 488, 489, 490, 491, 492, 493,\n",
       "        494, 495, 496, 497, 498, 499, 500, 501, 502, 503, 504, 505, 506,\n",
       "        507, 508, 509, 510, 511, 512, 513, 514, 515, 516, 517, 518, 519,\n",
       "        520, 521, 522, 523, 524, 525, 526, 527, 528, 529, 530, 531, 532,\n",
       "        533, 534, 535, 536, 537, 538, 539, 540, 541, 542, 543, 544, 545,\n",
       "        546, 547, 548, 549, 550, 551, 552, 553, 554, 555, 556, 557, 558,\n",
       "        559, 560, 561, 562, 563, 564, 565, 566, 567, 568, 569, 570, 571,\n",
       "        572, 573, 574, 575, 576, 577, 578, 579, 580, 581, 582, 583, 584,\n",
       "        585, 586, 587, 588, 589, 590, 591, 592, 593, 594, 595, 596, 597,\n",
       "        598, 599, 600, 601, 602, 603, 604, 605, 606, 607, 608, 609, 610,\n",
       "        611, 612, 613, 614, 615, 616, 617, 618, 619, 620, 621, 622, 623,\n",
       "        624, 625, 626, 627, 628, 629, 630, 631, 632, 633, 634, 635, 636,\n",
       "        637, 638, 639, 640, 641, 642, 643, 644, 645, 646, 647, 648, 649,\n",
       "        650, 651, 652, 653, 654, 655, 656, 657, 658, 659, 660, 661, 662,\n",
       "        663, 664, 665, 666, 667, 668, 669, 670, 671, 672, 673, 674, 675,\n",
       "        676, 677, 678, 679, 680, 681, 682, 683, 684, 685, 686, 687, 688,\n",
       "        689, 690, 691, 692, 693, 694, 695, 696, 697, 698, 699, 700, 701,\n",
       "        702, 703, 704, 705, 706, 707, 708, 709, 710, 711, 712, 713, 714,\n",
       "        715, 716, 717, 718, 719, 720, 721, 722, 723, 724, 725, 726, 727,\n",
       "        728, 729, 730, 731, 732, 733, 734, 735, 736, 737, 738, 739, 740,\n",
       "        741, 742, 743, 744, 745, 746, 747, 748, 749, 750, 751, 752, 753,\n",
       "        754, 755, 756, 757, 758, 759, 760, 761, 762, 763, 764, 765, 766,\n",
       "        767, 768, 769, 770, 771, 772, 773, 774, 775, 776, 777, 778, 779,\n",
       "        780, 781, 782, 783, 784, 785, 786, 787, 788, 789, 790, 791, 792,\n",
       "        793, 794, 795, 796, 797, 798, 799, 800, 801, 802, 803, 804, 805,\n",
       "        806, 807, 808, 809, 810, 811, 812, 813, 814, 815, 816, 817, 818,\n",
       "        819, 820, 821, 822, 823, 824, 825, 826, 827, 828, 829, 830, 831,\n",
       "        832, 833, 834, 835, 836, 837, 838, 839, 840, 841, 842, 843, 844,\n",
       "        845, 846, 847, 848, 849, 850, 851, 852, 853, 854, 855, 856, 857,\n",
       "        858, 859, 860, 861, 862, 863, 864, 865, 866, 867, 868, 869, 870,\n",
       "        871, 872, 873, 874, 875, 876, 877, 878, 879, 880, 881, 882, 883,\n",
       "        884, 885, 886, 887, 888, 889, 890, 891, 892, 893, 894, 895, 896,\n",
       "        897, 898, 899, 900]))"
      ]
     },
     "execution_count": 6,
     "metadata": {},
     "output_type": "execute_result"
    }
   ],
   "source": [
    "histogram(t,bins=ventanas1)"
   ]
  },
  {
   "cell_type": "markdown",
   "metadata": {},
   "source": [
    "Como vemos `histogram` retorna dos arreglos: uno con el conteo y otro con las ventanas. Aislamos el primer arreglo (componente [0]) y lo asignamos al arreglo nx:"
   ]
  },
  {
   "cell_type": "code",
   "execution_count": 7,
   "metadata": {
    "collapsed": false
   },
   "outputs": [],
   "source": [
    "nx = histogram(t,bins=ventanas1)[0]"
   ]
  },
  {
   "cell_type": "markdown",
   "metadata": {},
   "source": [
    "Podemos graficar estos valores en un gráfico de barras:"
   ]
  },
  {
   "cell_type": "code",
   "execution_count": 8,
   "metadata": {
    "collapsed": false
   },
   "outputs": [
    {
     "data": {
      "text/plain": [
       "<Container object of 900 artists>"
      ]
     },
     "execution_count": 8,
     "metadata": {},
     "output_type": "execute_result"
    },
    {
     "data": {
      "image/png": "[encoded data removed]",
      "text/plain": [
       "<matplotlib.figure.Figure at 0x7fb283aa7090>"
      ]
     },
     "metadata": {},
     "output_type": "display_data"
    }
   ],
   "source": [
    "bar(arange(len(nx)),nx)"
   ]
  },
  {
   "cell_type": "markdown",
   "metadata": {},
   "source": [
    "Con este arreglo, del número de detecciones en cada intervalo de 1 segundo, podemos también calcular el valor medio de detecciones en cada segundo:"
   ]
  },
  {
   "cell_type": "code",
   "execution_count": 9,
   "metadata": {
    "collapsed": false
   },
   "outputs": [
    {
     "name": "stdout",
     "output_type": "stream",
     "text": [
      "Detecciones promedio en cada segundo = 1.99111111111\n"
     ]
    }
   ],
   "source": [
    "mu=mean(nx)\n",
    "print('Detecciones promedio en cada segundo = '+ str(mu))"
   ]
  },
  {
   "cell_type": "markdown",
   "metadata": {},
   "source": [
    "Análogamente, la desviación estándar del conteo de detecciones por cada intervalo de 1 segundo es:"
   ]
  },
  {
   "cell_type": "code",
   "execution_count": 10,
   "metadata": {
    "collapsed": false
   },
   "outputs": [
    {
     "name": "stdout",
     "output_type": "stream",
     "text": [
      "Desviación estándar de conteo = 1.44299500402\n"
     ]
    }
   ],
   "source": [
    "sigma=std(nx,ddof=1)\n",
    "print('Desviación estándar de conteo = '+str(sigma))"
   ]
  },
  {
   "cell_type": "markdown",
   "metadata": {},
   "source": [
    "También podemos contar cuántas veces se detectaron 0 partículas en los intervalos de 1 segundo, cuántas veces se detectó 1 partícula, cuántes veces se detectaron 2 partículas, etc. Podemos hacer esto nuevamente usando la función `histogram` de Numpy, pero también podemos usar la función `hist` de Matplotlib, que realiza la misma operación y además construye un gráfico de barras con el conteo:"
   ]
  },
  {
   "cell_type": "code",
   "execution_count": 11,
   "metadata": {
    "collapsed": false
   },
   "outputs": [
    {
     "data": {
      "image/png": "[encoded data removed]",
      "text/plain": [
       "<matplotlib.figure.Figure at 0x7fb2818d1e10>"
      ]
     },
     "metadata": {},
     "output_type": "display_data"
    }
   ],
   "source": [
    "x = range(max(nx))\n",
    "hist(nx,bins=x, align='left')\n",
    "grid()"
   ]
  },
  {
   "cell_type": "markdown",
   "metadata": {},
   "source": [
    "(Note que `hist` retorna 3 objetos: un arreglo con el conteo, un arreglo con las ventanas usadas, y finalmente el gráfico)"
   ]
  },
  {
   "cell_type": "markdown",
   "metadata": {},
   "source": [
    "Si agregamos la opción `normed='True'` a `hist`, el gráfico será normalizado, es decir, se dividirá por el número total de conteos:"
   ]
  },
  {
   "cell_type": "code",
   "execution_count": 12,
   "metadata": {
    "collapsed": false
   },
   "outputs": [
    {
     "data": {
      "image/png": "[encoded data removed]",
      "text/plain": [
       "<matplotlib.figure.Figure at 0x7fb280bdf1d0>"
      ]
     },
     "metadata": {},
     "output_type": "display_data"
    }
   ],
   "source": [
    "hist(nx,bins=x, align='left',normed='True')\n",
    "grid()"
   ]
  },
  {
   "cell_type": "markdown",
   "metadata": {},
   "source": [
    "Finalmente, comparamos las distribución normalizada de ocurrencias con la distribución idealizada dada por la distribución de Poisson. La función $P(x,\\mu)$ está pre-programada en la función `poisson.pmf(x,mu)` de scipy.stats. Elegimos el parámetro $\\mu$ de la distribución de Poisson como el valor promedio de detecciones de la muestra, calculado más arriba:"
   ]
  },
  {
   "cell_type": "code",
   "execution_count": 13,
   "metadata": {
    "collapsed": false
   },
   "outputs": [
    {
     "data": {
      "image/png": "[encoded data removed]",
      "text/plain": [
       "<matplotlib.figure.Figure at 0x7fb280d20fd0>"
      ]
     },
     "metadata": {},
     "output_type": "display_data"
    }
   ],
   "source": [
    "hist(nx,bins=x, align='left',normed='True')\n",
    "plot(x,poisson.pmf(x,mu), marker='o')\n",
    "grid()"
   ]
  },
  {
   "cell_type": "markdown",
   "metadata": {
    "collapsed": true
   },
   "source": [
    "Como vemos, la distribución de Poisson se ajusta razonablemente bien a los datos. Esperamos que con un mayor número de partículas detectadas (extendiendo las mediciones por más tiempo) mejore el acuerdo del modelo con los datos."
   ]
  }
 ],
 "metadata": {
  "anaconda-cloud": {},
  "kernelspec": {
   "display_name": "Python [default]",
   "language": "python",
   "name": "python2"
  },
  "language_info": {
   "codemirror_mode": {
    "name": "ipython",
    "version": 2
   },
   "file_extension": ".py",
   "mimetype": "text/x-python",
   "name": "python",
   "nbconvert_exporter": "python",
   "pygments_lexer": "ipython2",
   "version": "2.7.12"
  }
 },
 "nbformat": 4,
 "nbformat_minor": 0
}
