{
 "cells": [
  {
   "cell_type": "code",
   "execution_count": 1,
   "metadata": {
    "collapsed": true
   },
   "outputs": [],
   "source": [
    "from numpy import *"
   ]
  },
  {
   "cell_type": "code",
   "execution_count": 2,
   "metadata": {
    "collapsed": true
   },
   "outputs": [],
   "source": [
    "from matplotlib.pyplot import *\n",
    "%matplotlib inline\n",
    "style.use('classic')"
   ]
  },
  {
   "cell_type": "markdown",
   "metadata": {},
   "source": [
    "# Ejemplo 1:\n",
    "\n",
    "$$\n",
    "y = 10\\sin(x)\n",
    "$$\n",
    "\n",
    "con $x = (70\\pm 1){}^\\circ$\n",
    "\n",
    "En forma analítica, podemos usar\n",
    "\\begin{align}\n",
    "\\Delta y &\\approx \\left|\\frac{dy}{dx}\\right|\\Delta x \\\\\n",
    "&\\approx 10\\left|\\cos(x)\\right|\\Delta x.\n",
    "\\end{align}\n",
    "\n",
    "A continuación evaluamos estas cantidades:"
   ]
  },
  {
   "cell_type": "code",
   "execution_count": 3,
   "metadata": {},
   "outputs": [
    {
     "name": "stdout",
     "output_type": "stream",
     "text": [
      "Valor principal = 9.39692620786\n",
      "Error absoluto, Dy = 0.0596937760918\n"
     ]
    }
   ],
   "source": [
    "x = 70\n",
    "Dx = 1\n",
    "\n",
    "def f(x):\n",
    "    return 10*sin(x*pi/180)\n",
    "\n",
    "Dy = 10*cos(x*pi/180)*(Dx*pi/180)\n",
    "print('Valor principal = '+str(f(x)))\n",
    "print('Error absoluto, Dy = '+str(Dy))"
   ]
  },
  {
   "cell_type": "markdown",
   "metadata": {},
   "source": [
    "que expresaríamos como $y=9.40\\pm 0.06$."
   ]
  },
  {
   "cell_type": "markdown",
   "metadata": {},
   "source": [
    "Ahora podemos usar el otro método, consistente en evaluar la función en muchos puntos en el intervalo de valores de $x$ de interés, y buscar el máximo y mínimo."
   ]
  },
  {
   "cell_type": "code",
   "execution_count": 4,
   "metadata": {},
   "outputs": [
    {
     "name": "stdout",
     "output_type": "stream",
     "text": [
      "Mínimo = 9.33580426497\n",
      "Máximo = 9.45518575599\n",
      "Valor principal = 9.39692620786\n",
      "Semi-ancho del intervalo = 0.0596907455106\n",
      "Máximo - Valor Principal = 0.0582595481341\n",
      "Valor principal - Mínimo = 0.0611219428871\n"
     ]
    }
   ],
   "source": [
    "px = linspace(x-Dx,x+Dx,100)\n",
    "\n",
    "y = f(x)\n",
    "py = f(px)\n",
    "mini = py.min()\n",
    "maxi = py.max()\n",
    "print('Mínimo = '+str(mini))\n",
    "print('Máximo = '+str(maxi))\n",
    "print('Valor principal = '+str(y))\n",
    "print('Semi-ancho del intervalo = '+str((maxi-mini)/2.))\n",
    "print('Máximo - Valor Principal = '+str(maxi-y))\n",
    "print('Valor principal - Mínimo = '+str(y-mini))"
   ]
  },
  {
   "cell_type": "markdown",
   "metadata": {},
   "source": [
    "que podemos expresar como $y = 9.40^{+0.06}_{-0.07}$, y es consistente con el cálculo que usa la expresión analítica."
   ]
  },
  {
   "cell_type": "markdown",
   "metadata": {},
   "source": [
    "Vemos que en este caso la aproximación obtenida con el primer método es bastante bueno. Esto es por el hecho que la función considerada crece de forma aproximadamente lineal en el intervalo en que la hemos evaluado. Esto puede apreciarse también en el gráfico siguiente:"
   ]
  },
  {
   "cell_type": "code",
   "execution_count": 5,
   "metadata": {},
   "outputs": [
    {
     "data": {
      "image/png": "[encoded data removed]",
      "text/plain": [
       "<matplotlib.figure.Figure at 0x7f00a8c0d9e8>"
      ]
     },
     "metadata": {},
     "output_type": "display_data"
    }
   ],
   "source": [
    "plot(px,py)\n",
    "scatter(x,y, color='red')\n",
    "xlabel('$x$', fontsize=15)\n",
    "ylabel('$10\\sin(x)$', fontsize=15)\n",
    "grid()"
   ]
  },
  {
   "cell_type": "markdown",
   "metadata": {},
   "source": [
    "# Ejemplo 2:\n",
    "\n",
    "$$\n",
    "y = \\tan(x)\n",
    "$$\n",
    "\n",
    "En forma analítica\n",
    "\\begin{align}\n",
    "\\Delta y &\\approx \\left|\\frac{dy}{dx}\\right|\\Delta x \\\\\n",
    "&\\approx \\left|\\sec^2x\\right|\\Delta x \\\\\n",
    "\\end{align}"
   ]
  },
  {
   "cell_type": "markdown",
   "metadata": {},
   "source": [
    "Si $x = (50\\pm 1){}^\\circ$, entonces"
   ]
  },
  {
   "cell_type": "code",
   "execution_count": 6,
   "metadata": {},
   "outputs": [
    {
     "name": "stdout",
     "output_type": "stream",
     "text": [
      "Valor principal = 1.19175359259\n",
      "Error absoluto, Dy = 0.0422417959234\n"
     ]
    }
   ],
   "source": [
    "def f(x):\n",
    "    return tan((pi/180)*x)\n",
    "\n",
    "x = 50\n",
    "Dx = 1\n",
    "Dy = (Dx*pi/180)/((cos(x*pi/180))**2)\n",
    "print('Valor principal = '+str(f(x)))\n",
    "print('Error absoluto, Dy = '+str(Dy))"
   ]
  },
  {
   "cell_type": "markdown",
   "metadata": {},
   "source": [
    "Esto podría llevarnos a expresar $y=1.20\\pm 0.05$.\n",
    "\n",
    "Con el segundo método, obtenemos:"
   ]
  },
  {
   "cell_type": "code",
   "execution_count": 7,
   "metadata": {},
   "outputs": [
    {
     "name": "stdout",
     "output_type": "stream",
     "text": [
      "Mínimo = 1.15036840722\n",
      "Máximo = 1.23489715654\n",
      "Valor principal = 1.19175359259\n",
      "Semi-ancho del intervalo = 0.042264374657\n",
      "Máximo - Valor Principal = 0.0431435639408\n",
      "Valor principal - Mínimo = 0.0413851853732\n"
     ]
    }
   ],
   "source": [
    "px = linspace(x-Dx,x+Dx,100)\n",
    "\n",
    "y = f(x)\n",
    "py = f(px)\n",
    "mini = py.min()\n",
    "maxi = py.max()\n",
    "print('Mínimo = '+str(mini))\n",
    "print('Máximo = '+str(maxi))\n",
    "print('Valor principal = '+str(y))\n",
    "print('Semi-ancho del intervalo = '+str((maxi-mini)/2.))\n",
    "print('Máximo - Valor Principal = '+str(maxi-y))\n",
    "print('Valor principal - Mínimo = '+str(y-mini))"
   ]
  },
  {
   "cell_type": "markdown",
   "metadata": {},
   "source": [
    "Esto es nuevamente consistente con los resultados del primer método, lo que también puede ser apreciado en el gráfico:"
   ]
  },
  {
   "cell_type": "code",
   "execution_count": 8,
   "metadata": {},
   "outputs": [
    {
     "data": {
      "image/png": "[encoded data removed]",
      "text/plain": [
       "<matplotlib.figure.Figure at 0x7f00a57eda20>"
      ]
     },
     "metadata": {},
     "output_type": "display_data"
    }
   ],
   "source": [
    "plot(px,py)\n",
    "scatter(x,y, color='red')\n",
    "xlabel('$x$', fontsize=15)\n",
    "ylabel('$\\\\tan(x)$', fontsize=15)\n",
    "grid()"
   ]
  },
  {
   "cell_type": "markdown",
   "metadata": {},
   "source": [
    "# Ejemplo 3:\n",
    "\n",
    "Considere la misma función anterior, pero esta vez $x = (88\\pm 1){}^\\circ$."
   ]
  },
  {
   "cell_type": "code",
   "execution_count": 9,
   "metadata": {},
   "outputs": [
    {
     "name": "stdout",
     "output_type": "stream",
     "text": [
      "Valor principal = 28.6362532829\n",
      "Error absoluto, Dy = 14.3297640605\n"
     ]
    }
   ],
   "source": [
    "x = 88\n",
    "Dx = 1\n",
    "Dy = (Dx*pi/180)/((cos(x*pi/180))**2)\n",
    "print('Valor principal = '+str(f(x)))\n",
    "print('Error absoluto, Dy = '+str(Dy))"
   ]
  },
  {
   "cell_type": "markdown",
   "metadata": {},
   "source": [
    "lo que puede ser expresado como $y=29\\pm 15$. Veamos ahora qué obtenemos con el segundo método:"
   ]
  },
  {
   "cell_type": "code",
   "execution_count": 10,
   "metadata": {
    "scrolled": true
   },
   "outputs": [
    {
     "name": "stdout",
     "output_type": "stream",
     "text": [
      "Mínimo = 19.0811366877\n",
      "Máximo = 57.2899616308\n",
      "Valor principal = 28.6362532829\n",
      "Semi-ancho del intervalo = 19.1044124715\n",
      "Máximo - Valor Principal = 28.6537083478\n",
      "Valor principal - Mínimo = 9.55511659519\n"
     ]
    }
   ],
   "source": [
    "px = linspace(x-Dx,x+Dx,100)\n",
    "\n",
    "y = f(x)\n",
    "py = f(px)\n",
    "mini = py.min()\n",
    "maxi = py.max()\n",
    "print('Mínimo = '+str(mini))\n",
    "print('Máximo = '+str(maxi))\n",
    "print('Valor principal = '+str(y))\n",
    "print('Semi-ancho del intervalo = '+str((maxi-mini)/2.))\n",
    "print('Máximo - Valor Principal = '+str(maxi-y))\n",
    "print('Valor principal - Mínimo = '+str(y-mini))"
   ]
  },
  {
   "cell_type": "markdown",
   "metadata": {},
   "source": [
    "que podemos expresar como $y = 29^{+29}_{-10}$. Note que en este caso la asimetría del intervalo de valores posibles de $y$ respecto al valor principal es no despreciable. Esto ocurre porque la función considerada ya no es aproximadamente rectilinea en el intervalo de interés:"
   ]
  },
  {
   "cell_type": "code",
   "execution_count": 11,
   "metadata": {},
   "outputs": [
    {
     "data": {
      "image/png": "[encoded data removed]",
      "text/plain": [
       "<matplotlib.figure.Figure at 0x7f00a573e978>"
      ]
     },
     "metadata": {},
     "output_type": "display_data"
    }
   ],
   "source": [
    "plot(px,py)\n",
    "scatter(x,y, color='red')\n",
    "xlabel('$x$', fontsize=15)\n",
    "ylabel('$\\\\tan(x)$', fontsize=15)\n",
    "grid()"
   ]
  },
  {
   "cell_type": "markdown",
   "metadata": {},
   "source": [
    "# Ejemplo 4: \n",
    "$$\n",
    "d = \\frac{v_0^2\\sin(2\\theta)}{g}\n",
    "$$\n",
    "\n",
    "Supondremos que $g=9.8\\,\\rm m/s^2$ (exacto), $v_0=(50\\pm 1)\\,\\rm m/s$ y $\\theta = (45\\pm 1)^\\circ$.\n",
    "\n",
    "La expresión analítica aproximada par el error propagado es\n",
    "\n",
    "\\begin{align}\n",
    "\\Delta x &\\approx \\left|\\frac{\\partial x}{\\partial v_0}\\right|\\Delta v_0 + \\left|\\frac{\\partial x}{\\partial\\theta}\\right|\\Delta\\theta \\\\\n",
    "&\\approx \\left|\\frac{2v_0\\sin(2\\theta)}{g}\\right|\\Delta v_0 + \\left|\\frac{2v_0^2\\cos(2\\theta)}{g}\\right|\\Delta\\theta\n",
    "\\end{align}\n",
    "\n",
    "Al evaluar, obtenemos:"
   ]
  },
  {
   "cell_type": "code",
   "execution_count": 12,
   "metadata": {},
   "outputs": [
    {
     "name": "stdout",
     "output_type": "stream",
     "text": [
      "Valor principal = 91.8367346939\n",
      "Error absoluto, Dd = 6.12244897959\n"
     ]
    }
   ],
   "source": [
    "v0b = 30\n",
    "Dv0 = 1\n",
    "Thb = 45*(pi/180)\n",
    "DTh = 1*(pi/180)\n",
    "g = 9.8\n",
    "\n",
    "def d(v0,theta):\n",
    "    return (v0**2*sin(2*theta))/g\n",
    "\n",
    "Dd = abs(2*v0b*sin(2*Thb)/g)*Dv0 + abs(2*v0b**2*cos(2*Thb)/g)*DTh\n",
    "\n",
    "print('Valor principal = '+str(d(v0b,Thb)))\n",
    "print('Error absoluto, Dd = '+str(Dd))"
   ]
  },
  {
   "cell_type": "markdown",
   "metadata": {},
   "source": [
    "Con esta aproximación obtendríamos $d = (91.8\\pm 6.2)\\,\\rm m$.\n",
    "\n",
    "A continuación aplicamos el segundo método:"
   ]
  },
  {
   "cell_type": "code",
   "execution_count": 13,
   "metadata": {},
   "outputs": [
    {
     "name": "stdout",
     "output_type": "stream",
     "text": [
      "Mínimo = 85.7640495432\n",
      "Máximo = 98.0612183943\n",
      "Valor principal = 91.8367346939\n",
      "Semi-ancho del intervalo = 6.14858442555\n",
      "Máximo - Valor Principal = 6.22448370039\n",
      "Valor principal - Mínimo = 6.07268515071\n"
     ]
    }
   ],
   "source": [
    "pv0 = linspace(v0b-Dv0,v0b+Dv0,100) \n",
    "pTh = linspace(Thb-DTh,Thb+DTh,100)\n",
    "mv0, mTh = meshgrid(pv0,pTh) # malla de valores de v0 y Th\n",
    "md = d(mv0,mTh) # malla de valores de d\n",
    "mini = md.min()\n",
    "maxi = md.max()\n",
    "db = d(v0b,Thb)\n",
    "print('Mínimo = '+str(mini))\n",
    "print('Máximo = '+str(maxi))\n",
    "print('Valor principal = '+str(db))\n",
    "print('Semi-ancho del intervalo = '+str((maxi-mini)/2.))\n",
    "print('Máximo - Valor Principal = '+str(maxi-db))\n",
    "print('Valor principal - Mínimo = '+str(db-mini))"
   ]
  },
  {
   "cell_type": "markdown",
   "metadata": {},
   "source": [
    "Podríamos expresar este resultado como $x=91.8^{+6.3}_{-6.1}\\,\\rm m$ o bien, de forma algo más conservadora, $x=(91.8\\pm 6.3)\\,\\rm m$."
   ]
  },
  {
   "cell_type": "markdown",
   "metadata": {},
   "source": [
    "# Ejemplo 5:\n",
    "\n",
    "Suponga que determinamos el volumen de un gas a partir de la ecuación para un gas ideal,\n",
    "\\begin{equation}\n",
    "V(p,T,n,R)=\\frac{nRT}{p},\n",
    "\\end{equation}\n",
    "donde cada magnitud física es medida con su respectivo error asociado:\n",
    "\n",
    "\\begin{equation}\n",
    "p=(100\\pm 3)\\times 10^3\\text{ Pa}, \\quad T=(300.0\\pm 0.2)\\text{ K}, \n",
    "\\quad n=(0.10\\pm 0.01)\\text{ mol},\n",
    "\\end{equation}\n",
    "\n",
    "mientras que de una tabla de datos se obtiene\n",
    "\\begin{equation}\n",
    "R=(8.31\\pm 0.01)\\text{ J/mol K}.\n",
    "\\end{equation}"
   ]
  },
  {
   "cell_type": "markdown",
   "metadata": {},
   "source": [
    "Definimos los valores de las variables y sus errores, y además el número $N$ de elementos en los que se particionará cada intervalo entre $x-\\Delta x$ y $x+\\Delta x$ para cada variable:"
   ]
  },
  {
   "cell_type": "code",
   "execution_count": 14,
   "metadata": {
    "collapsed": true
   },
   "outputs": [],
   "source": [
    "pb = 100e3\n",
    "Dp = 3e3\n",
    "Tb = 300\n",
    "DT = 0.2\n",
    "nb = 0.1\n",
    "Dn = 0.01\n",
    "Rb = 8.31\n",
    "DR = 0.01\n",
    "N = 100"
   ]
  },
  {
   "cell_type": "code",
   "execution_count": 15,
   "metadata": {
    "collapsed": true
   },
   "outputs": [],
   "source": [
    "pp = linspace(pb-Dp,pb+Dp,N)\n",
    "pT = linspace(Tb-DT,Tb+DT,N)\n",
    "pn = linspace(nb-Dn,nb+Dn,N)\n",
    "pR = linspace(Rb-DR,Rb+DR,N)"
   ]
  },
  {
   "cell_type": "markdown",
   "metadata": {},
   "source": [
    "Luego creamos una malla (4-dimensional) de valores para $p, T, n$ y $R$, usando la función `meshgrid` de Numpy"
   ]
  },
  {
   "cell_type": "code",
   "execution_count": 16,
   "metadata": {
    "collapsed": true
   },
   "outputs": [],
   "source": [
    "mp, mT, mn, mR = meshgrid(pp,pT,pn,pR)"
   ]
  },
  {
   "cell_type": "markdown",
   "metadata": {},
   "source": [
    "A continuación definimos la función para V en términos de $p, T, n$ y $R$, y la evaluamos en cada elemento de la malla de $N^4=10^8$ valores en total:"
   ]
  },
  {
   "cell_type": "code",
   "execution_count": 17,
   "metadata": {
    "collapsed": true
   },
   "outputs": [],
   "source": [
    "def f(p,T,n,R):\n",
    "    return n*R*T/p\n",
    "\n",
    "mV = f(mp,mT,mn,mR)"
   ]
  },
  {
   "cell_type": "markdown",
   "metadata": {},
   "source": [
    "A partir de esto, determinamos el valor máximo, mínimo y principal de V:"
   ]
  },
  {
   "cell_type": "code",
   "execution_count": 18,
   "metadata": {},
   "outputs": [
    {
     "name": "stdout",
     "output_type": "stream",
     "text": [
      "Mínimo = 0.0021742776699\n",
      "Máximo = 0.00283240247423\n",
      "Valor principal = 0.002493\n",
      "Semi-ancho del intervalo = 0.000329062402162\n",
      "Máximo - Valor Principal = 0.000339402474227\n",
      "Valor principal - Mínimo = 0.000318722330097\n"
     ]
    }
   ],
   "source": [
    "mini = mV.min()\n",
    "maxi = mV.max()\n",
    "Vb = f(pb,Tb,nb,Rb)\n",
    "print('Mínimo = '+str(mini))\n",
    "print('Máximo = '+str(maxi))\n",
    "print('Valor principal = '+str(Vb))\n",
    "print('Semi-ancho del intervalo = '+str((maxi-mini)/2.))\n",
    "print('Máximo - Valor Principal = '+str(maxi-Vb))\n",
    "print('Valor principal - Mínimo = '+str(Vb-mini))"
   ]
  },
  {
   "cell_type": "markdown",
   "metadata": {},
   "source": [
    "A partir de estos resultados vemos que el intervalo de valores posibles no es simétrico respecto a $\\bar{V}$, por lo que podríamos expresar el valor del volumen como $V=(2.49^{+0.34}_{-0.32})\\times 10^{-3}\\,\\rm m^3$, o bien, siendo más conservadores, $V=(2.5\\pm 0.34)\\times 10^{-3}\\,\\rm m^3$."
   ]
  },
  {
   "cell_type": "markdown",
   "metadata": {},
   "source": [
    "# Ejemplo 6: Determinación de G\n",
    "\n",
    "\\begin{equation}\n",
    "G=\\frac{Fd^2}{m^2}.\n",
    "\\end{equation}\n",
    "\n",
    "Si $F\\approx 2.67\\times 10^{-6}\\,\\rm N$, $d\\approx 0.5\\,\\rm m$, $m\\approx 100\\,\\rm kg$, entonces"
   ]
  },
  {
   "cell_type": "code",
   "execution_count": 19,
   "metadata": {},
   "outputs": [
    {
     "name": "stdout",
     "output_type": "stream",
     "text": [
      "Valor principal de G = 6.675e-11\n"
     ]
    }
   ],
   "source": [
    "def G(F,d,m):\n",
    "    return F*d**2/m**2\n",
    "\n",
    "db = 0.5\n",
    "mb = 100\n",
    "Fb = 2.67e-6\n",
    "Gb = G(Fb,db,mb)\n",
    "print('Valor principal de G = '+str(Gb))"
   ]
  },
  {
   "cell_type": "markdown",
   "metadata": {},
   "source": [
    "Definimos ahora los errores absolutos $\\Delta F$ y $\\Delta m$, para luego generar las particiones de los intervalos respectivos (con 100 elementos c/u):"
   ]
  },
  {
   "cell_type": "code",
   "execution_count": 20,
   "metadata": {},
   "outputs": [],
   "source": [
    "urF = 2e-4 # error relativo de F\n",
    "DF = Fb*urF\n",
    "Dm = 1e-3\n",
    "\n",
    "pF = linspace(Fb-DF,Fb+DF,100)\n",
    "pm = linspace(mb-Dm,mb+Dm,100)"
   ]
  },
  {
   "cell_type": "markdown",
   "metadata": {},
   "source": [
    "Generalizamos el procedimiento usado en el ejemplo anterior, y definimos una función `uG(Dd)` que calcula el error relativo de $G$ para cada valor del error $\\Delta d$:"
   ]
  },
  {
   "cell_type": "code",
   "execution_count": 21,
   "metadata": {
    "collapsed": true
   },
   "outputs": [],
   "source": [
    "def uG(Dd):\n",
    "    pd = linspace(db-Dd,db+Dd,100)\n",
    "    mF, md, mm = meshgrid(pF,pd,pm)\n",
    "    mG = G(mF,md,mm)\n",
    "    u_G = (mG.max()-mG.min())/(2*Gb)\n",
    "    return u_G"
   ]
  },
  {
   "cell_type": "markdown",
   "metadata": {},
   "source": [
    "Usando esta función, podemos explorar \"a mano\" qué valores de $\\Delta b$ conducirán a un error relativo $u_r^G$ el orden deseado"
   ]
  },
  {
   "cell_type": "code",
   "execution_count": 22,
   "metadata": {},
   "outputs": [
    {
     "data": {
      "text/plain": [
       "0.0010000000368797864"
      ]
     },
     "execution_count": 22,
     "metadata": {},
     "output_type": "execute_result"
    }
   ],
   "source": [
    "uG(1.95e-4)"
   ]
  },
  {
   "cell_type": "markdown",
   "metadata": {},
   "source": [
    "Alternativamente, podemos encontrar el valor $\\Delta d$ deseado planteando la ecuación $u_r^G(\\Delta b)-10^{-3}=0$ y encontrando numéricamente su solución. Para esto usaremos la función `fsolve` del módulo `scipy.optimize`"
   ]
  },
  {
   "cell_type": "code",
   "execution_count": 23,
   "metadata": {
    "collapsed": true
   },
   "outputs": [],
   "source": [
    "from scipy.optimize import fsolve\n",
    "\n",
    "def ec(x):\n",
    "    return uG(x)-1e-3"
   ]
  },
  {
   "cell_type": "code",
   "execution_count": 24,
   "metadata": {},
   "outputs": [
    {
     "data": {
      "text/plain": [
       "array([ 0.000195])"
      ]
     },
     "execution_count": 24,
     "metadata": {},
     "output_type": "execute_result"
    }
   ],
   "source": [
    "fsolve(ec,2e-4)"
   ]
  },
  {
   "cell_type": "markdown",
   "metadata": {},
   "source": [
    "La función `fsolve` requiere un valor inicial ('semilla') para comenzar la búsqueda de la solución (en este caso, hemos ingresado $2\\times 10^{-4}$ como valor inicial). Como resultado, ésta nos entrega un arreglo con las soluciones que encontró: en este caso el valor $\\Delta d = 0.000195$."
   ]
  }
 ],
 "metadata": {
  "kernelspec": {
   "display_name": "Python 3",
   "language": "python",
   "name": "python3"
  },
  "language_info": {
   "codemirror_mode": {
    "name": "ipython",
    "version": 3
   },
   "file_extension": ".py",
   "mimetype": "text/x-python",
   "name": "python",
   "nbconvert_exporter": "python",
   "pygments_lexer": "ipython3",
   "version": "3.6.2"
  }
 },
 "nbformat": 4,
 "nbformat_minor": 2
}
