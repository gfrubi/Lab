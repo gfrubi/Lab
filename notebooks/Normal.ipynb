{
 "cells": [
  {
   "cell_type": "code",
   "execution_count": 1,
   "metadata": {},
   "outputs": [],
   "source": [
    "%matplotlib inline"
   ]
  },
  {
   "cell_type": "code",
   "execution_count": 2,
   "metadata": {},
   "outputs": [],
   "source": [
    "from matplotlib.pyplot import *\n",
    "from numpy import *"
   ]
  },
  {
   "cell_type": "markdown",
   "metadata": {},
   "source": [
    "# Distribución normal o de Gauss"
   ]
  },
  {
   "cell_type": "markdown",
   "metadata": {},
   "source": [
    "Primeros definimos nuestra propia versión de la función densidad de probabilidad normal:\n",
    "\\begin{equation}\n",
    "f(x,\\mu,\\sigma)=\\frac{1}{\\sqrt{2\\pi\\sigma^2}}e^{-\\frac{1}{2}\\left(\\frac{x-\\mu}{\\sigma}\\right)^2}.\n",
    "\\end{equation}"
   ]
  },
  {
   "cell_type": "code",
   "execution_count": 3,
   "metadata": {},
   "outputs": [],
   "source": [
    "def fn(x,mu,sigma):\n",
    "    return e**(-((x-mu)/sigma)**2/2.)/sqrt(2*pi*sigma**2)"
   ]
  },
  {
   "cell_type": "markdown",
   "metadata": {},
   "source": [
    "Y luego graficamos el caso *estándar*, que corresponde a $\\mu=0$ y $\\sigma=1$:"
   ]
  },
  {
   "cell_type": "code",
   "execution_count": 4,
   "metadata": {},
   "outputs": [
    {
     "data": {
      "image/png": "[encoded data removed]",
      "text/plain": [
       "<matplotlib.figure.Figure at 0x7f8ee2442e10>"
      ]
     },
     "metadata": {},
     "output_type": "display_data"
    }
   ],
   "source": [
    "x = linspace(-5,5,100)\n",
    "plot(x,fn(x,0,1),linewidth=2)\n",
    "hlines(1/sqrt(2*pi),-5,5)\n",
    "title('Densidad de Probabilidad')\n",
    "xlabel('$x$')\n",
    "ylabel(r'$e^{-x^2/2}/\\sqrt{2\\pi}$')\n",
    "xlim(-5,5)\n",
    "ylim(0,0.5)\n",
    "grid()"
   ]
  },
  {
   "cell_type": "markdown",
   "metadata": {},
   "source": [
    "Podemos visualizar cómo el efecto de variar $\\mu$ y $\\sigma$ con el siguiente gráfico interactivo (bajar y ejecutar el notebook!):"
   ]
  },
  {
   "cell_type": "code",
   "execution_count": 5,
   "metadata": {},
   "outputs": [],
   "source": [
    "def p(mu=0,sigma=1):\n",
    "    plot(x,fn(x,mu,sigma),linewidth=2)\n",
    "    title('Densidad de Probabilidad')\n",
    "    xlabel('$x$')\n",
    "    ylabel('$f(x)$')\n",
    "    xlim(-5,5)\n",
    "    ylim(0,0.5)\n",
    "    grid()"
   ]
  },
  {
   "cell_type": "code",
   "execution_count": 6,
   "metadata": {},
   "outputs": [
    {
     "name": "stderr",
     "output_type": "stream",
     "text": [
      "/home/gr/anaconda3/lib/python3.6/site-packages/IPython/html.py:14: ShimWarning: The `IPython.html` package has been deprecated since IPython 4.0. You should import from `notebook` instead. `IPython.html.widgets` has moved to `ipywidgets`.\n",
      "  \"`IPython.html.widgets` has moved to `ipywidgets`.\", ShimWarning)\n"
     ]
    },
    {
     "data": {
      "application/vnd.jupyter.widget-view+json": {
       "model_id": "c72962777d2146409e7a203fc83d71c1",
       "version_major": 2,
       "version_minor": 0
      },
      "text/html": [
       "<p>Failed to display Jupyter Widget of type <code>interactive</code>.</p>\n",
       "<p>\n",
       "  If you're reading this message in the Jupyter Notebook or JupyterLab Notebook, it may mean\n",
       "  that the widgets JavaScript is still loading. If this message persists, it\n",
       "  likely means that the widgets JavaScript library is either not installed or\n",
       "  not enabled. See the <a href=\"https://ipywidgets.readthedocs.io/en/stable/user_install.html\">Jupyter\n",
       "  Widgets Documentation</a> for setup instructions.\n",
       "</p>\n",
       "<p>\n",
       "  If you're reading this message in another frontend (for example, a static\n",
       "  rendering on GitHub or <a href=\"https://nbviewer.jupyter.org/\">NBViewer</a>),\n",
       "  it may mean that your frontend doesn't currently support widgets.\n",
       "</p>\n"
      ],
      "text/plain": [
       "interactive(children=(FloatSlider(value=0.0, description='mu', max=5.0, min=-5.0), FloatSlider(value=1.0, description='sigma', max=5.0, min=0.1), Output()), _dom_classes=('widget-interact',))"
      ]
     },
     "metadata": {},
     "output_type": "display_data"
    },
    {
     "data": {
      "text/plain": [
       "<function __main__.p>"
      ]
     },
     "execution_count": 6,
     "metadata": {},
     "output_type": "execute_result"
    }
   ],
   "source": [
    "from IPython.html.widgets import interact\n",
    "interact(p,mu=(-5.,5.),sigma=(0.1,5.))"
   ]
  },
  {
   "cell_type": "markdown",
   "metadata": {},
   "source": [
    "También podemos usar las funciones definidas en la clase `norm` de scipy.stats, que cargamos usando:"
   ]
  },
  {
   "cell_type": "code",
   "execution_count": 7,
   "metadata": {},
   "outputs": [],
   "source": [
    "from scipy.stats import norm"
   ]
  },
  {
   "cell_type": "markdown",
   "metadata": {},
   "source": [
    "La densidad probabilidad es definida entonces por la función `norm.pdf` donde `pdf` se refiere a \"*probability density function*\", que tiene como opciones a `loc` y `scale`, que permiten indicar el valor medio y la desviación estándar. Por ejemplo `norm.pdf(loc=2,scale=3)` suministra la función densidad de probabilidad con $\\mu=2$ y $\\sigma=3$. Podemos comprobar esto, con las funciones `norm.mean` y `norm.std`:"
   ]
  },
  {
   "cell_type": "code",
   "execution_count": 8,
   "metadata": {},
   "outputs": [
    {
     "data": {
      "text/plain": [
       "(2.0, 3.0)"
      ]
     },
     "execution_count": 8,
     "metadata": {},
     "output_type": "execute_result"
    }
   ],
   "source": [
    "norm.mean(loc=2,scale=3), norm.std(loc=2,scale=3)"
   ]
  },
  {
   "cell_type": "markdown",
   "metadata": {},
   "source": [
    "Los valores por defecto de `loc` y `scale` son 0 y 1, respectivamente, es decir, de la distribución estándar:"
   ]
  },
  {
   "cell_type": "code",
   "execution_count": 9,
   "metadata": {},
   "outputs": [
    {
     "data": {
      "text/plain": [
       "(0.0, 1.0)"
      ]
     },
     "execution_count": 9,
     "metadata": {},
     "output_type": "execute_result"
    }
   ],
   "source": [
    "norm.mean(), norm.std()"
   ]
  },
  {
   "cell_type": "markdown",
   "metadata": {},
   "source": [
    "Comparamos la función densidad de probabilidad implementada en scipy.stats con la que definimos previamente ($\\mu=0$, $\\sigma=1$):"
   ]
  },
  {
   "cell_type": "code",
   "execution_count": 10,
   "metadata": {},
   "outputs": [
    {
     "data": {
      "image/png": "[encoded data removed]",
      "text/plain": [
       "<matplotlib.figure.Figure at 0x7f8ed2c055c0>"
      ]
     },
     "metadata": {},
     "output_type": "display_data"
    }
   ],
   "source": [
    "plot(x,norm.pdf(x))\n",
    "plot(x,fn(x,0,1),'o',markersize=3)\n",
    "title('Densidad de Probabilidad ($\\mu=0, \\sigma=1$)')\n",
    "xlabel('$x$')\n",
    "ylabel(r'pdf($x$)=$e^{-x^2/2}/\\sqrt{2\\pi}$')\n",
    "xlim(-5,5)\n",
    "ylim(0,0.5)\n",
    "grid()"
   ]
  },
  {
   "cell_type": "markdown",
   "metadata": {},
   "source": [
    "Similarmente, podemos graficar la *función de probabilidad acumulada*:\n",
    "$$\n",
    "F(x):=\\int_{-\\infty}^xf(y)dy\n",
    "$$ \n",
    "implementada en la función `norm.cdf` por \"*cumulative distribution function*\":"
   ]
  },
  {
   "cell_type": "code",
   "execution_count": 11,
   "metadata": {},
   "outputs": [
    {
     "data": {
      "image/png": "[encoded data removed]",
      "text/plain": [
       "<matplotlib.figure.Figure at 0x7f8ed28264e0>"
      ]
     },
     "metadata": {},
     "output_type": "display_data"
    }
   ],
   "source": [
    "plot(x,norm.cdf(x),linewidth=2)\n",
    "title(u'Función de Probabilidad acumulada ($\\mu=0, \\sigma=1$)')\n",
    "xlabel('$x$')\n",
    "ylabel('$F(x)$')\n",
    "xlim(-5,5)\n",
    "ylim(-0.1,1.1)\n",
    "grid()"
   ]
  },
  {
   "cell_type": "markdown",
   "metadata": {},
   "source": [
    "Para generar números aleatorios con esta distribución de probabilidad usamos la función `norm.rvs`, por ejemplo:"
   ]
  },
  {
   "cell_type": "code",
   "execution_count": 12,
   "metadata": {},
   "outputs": [
    {
     "data": {
      "text/plain": [
       "array([ 1.4930855 , -1.03472761,  0.26698286,  0.65995904,  1.13799828])"
      ]
     },
     "execution_count": 12,
     "metadata": {},
     "output_type": "execute_result"
    }
   ],
   "source": [
    "norm.rvs(size=5)"
   ]
  },
  {
   "cell_type": "markdown",
   "metadata": {},
   "source": [
    "Podemos representar gráficamente los valores aleatorios generados con un simple comando `plot`, por ejemplo:"
   ]
  },
  {
   "cell_type": "code",
   "execution_count": 13,
   "metadata": {},
   "outputs": [
    {
     "data": {
      "text/plain": [
       "[<matplotlib.lines.Line2D at 0x7f8ed2760ac8>]"
      ]
     },
     "execution_count": 13,
     "metadata": {},
     "output_type": "execute_result"
    },
    {
     "data": {
      "image/png": "[encoded data removed]",
      "text/plain": [
       "<matplotlib.figure.Figure at 0x7f8ed2809160>"
      ]
     },
     "metadata": {},
     "output_type": "display_data"
    }
   ],
   "source": [
    "plot(norm.rvs(size=100),'o')"
   ]
  },
  {
   "cell_type": "markdown",
   "metadata": {},
   "source": [
    "A continuación, comparamos el conteo (histograma) de los valores generados por `norm.rvs` con los valores esperados de acuerdo a función densidad de probabilidad. Ya que la distribución de probabilidad es  continua en este caso, es necesario tomar en cuenta el *tamaño de los intervalos* ($\\Delta x$) en los que se dividirá la recta real (de valores posibles de $x$), y que definen el ancho de los bins a considerar en el histograma. \n",
    "\n",
    "Si $n_i$ son los valores correspondientes al conteo de datos en un intervalo de ancho $\\Delta x$ centrado en el valor $x_i$, entonces esperamos que, para $\\Delta x$ suficientemente pequeño,\n",
    "$$\n",
    "    \\int_{x_i-(\\Delta x)/2}^{x_i+(\\Delta x)/2}f(x)\\,dx\\approx f(x_i)\\Delta x\\rightarrow \\frac{n_i}{N},\n",
    "$$\n",
    "y por lo tanto,\n",
    "$$\n",
    "    n_i\\rightarrow Nf(x_i)\\Delta x,\n",
    "$$\n",
    "donde $N=\\sum n_i$ es el número total de datos de la muestra."
   ]
  },
  {
   "cell_type": "markdown",
   "metadata": {},
   "source": [
    "En el siguiente ejemplo, graficamos el histograma correspondiente a 1 millón de valores aleatorios generados con $\\mu=0$ y $\\sigma=1$ y los comparamos con el valor esperado $Nf(x_i)\\Delta x$, eligiendo $\\Delta x$ de modo que los datos de la muestra estén divididos en 20 bins:"
   ]
  },
  {
   "cell_type": "code",
   "execution_count": 14,
   "metadata": {},
   "outputs": [
    {
     "data": {
      "image/png": "[encoded data removed]",
      "text/plain": [
       "<matplotlib.figure.Figure at 0x7f8ed2beb898>"
      ]
     },
     "metadata": {},
     "output_type": "display_data"
    }
   ],
   "source": [
    "N=10**6 # número de elementos de la muestra\n",
    "bi=20 # número de bins\n",
    "rv=norm.rvs(size=N) # N variables aleatorias\n",
    "Dx=(max(rv)-min(rv))/bi # intervalo de x entre bins\n",
    "hist(rv,bins=bi)\n",
    "plot(x,N*Dx*norm.pdf(x), lw=2)\n",
    "title('Histograma y conteo esperado ($\\mu=0, \\sigma=1$)')\n",
    "xlabel('$x$')\n",
    "xlim(-5,5)\n",
    "grid()"
   ]
  },
  {
   "cell_type": "markdown",
   "metadata": {},
   "source": [
    "Finalmente, el siguiente gráfico interactivo permite apreciar cómo varía el gráfico anterior al considerar valores distintos de $N$ y el número de bins:"
   ]
  },
  {
   "cell_type": "code",
   "execution_count": 15,
   "metadata": {},
   "outputs": [],
   "source": [
    "def p2(N=10**4,bi=10):\n",
    "    rv=norm.rvs(size=N) # N variables aleatorias\n",
    "    D=(max(rv)-min(rv))/bi # intervalo de x entre bins\n",
    "    hist(rv,bins=bi)\n",
    "    plot(x,N*D*norm.pdf(x), lw=2)\n",
    "    title('Histograma y conteo esperado ($\\mu=0, \\sigma=1$)')\n",
    "    xlabel('$x$')\n",
    "    xlim(-5,5)\n",
    "    grid()"
   ]
  },
  {
   "cell_type": "code",
   "execution_count": 16,
   "metadata": {},
   "outputs": [],
   "source": [
    "from ipywidgets import interact"
   ]
  },
  {
   "cell_type": "code",
   "execution_count": 17,
   "metadata": {},
   "outputs": [
    {
     "data": {
      "application/vnd.jupyter.widget-view+json": {
       "model_id": "6af501c9cff248bd8244dc1bc5a6f7cc",
       "version_major": 2,
       "version_minor": 0
      },
      "text/html": [
       "<p>Failed to display Jupyter Widget of type <code>interactive</code>.</p>\n",
       "<p>\n",
       "  If you're reading this message in the Jupyter Notebook or JupyterLab Notebook, it may mean\n",
       "  that the widgets JavaScript is still loading. If this message persists, it\n",
       "  likely means that the widgets JavaScript library is either not installed or\n",
       "  not enabled. See the <a href=\"https://ipywidgets.readthedocs.io/en/stable/user_install.html\">Jupyter\n",
       "  Widgets Documentation</a> for setup instructions.\n",
       "</p>\n",
       "<p>\n",
       "  If you're reading this message in another frontend (for example, a static\n",
       "  rendering on GitHub or <a href=\"https://nbviewer.jupyter.org/\">NBViewer</a>),\n",
       "  it may mean that your frontend doesn't currently support widgets.\n",
       "</p>\n"
      ],
      "text/plain": [
       "interactive(children=(IntSlider(value=10000, description='N', max=1000000, min=1000, step=1000), IntSlider(value=10, description='bi', min=1, step=10), Output()), _dom_classes=('widget-interact',))"
      ]
     },
     "metadata": {},
     "output_type": "display_data"
    },
    {
     "data": {
      "text/plain": [
       "<function __main__.p2>"
      ]
     },
     "execution_count": 17,
     "metadata": {},
     "output_type": "execute_result"
    }
   ],
   "source": [
    "interact(p2,N=(10**3,10**6,10**3),bi=(1,100,10))"
   ]
  }
 ],
 "metadata": {
  "anaconda-cloud": {},
  "kernelspec": {
   "display_name": "Python 3",
   "language": "python",
   "name": "python3"
  },
  "language_info": {
   "codemirror_mode": {
    "name": "ipython",
    "version": 3
   },
   "file_extension": ".py",
   "mimetype": "text/x-python",
   "name": "python",
   "nbconvert_exporter": "python",
   "pygments_lexer": "ipython3",
   "version": "3.6.3"
  },
  "widgets": {
   "state": {
    "dd4e0b0ece8b4166b95e64ecc9338928": {
     "views": [
      {
       "cell_index": 9
      }
     ]
    },
    "e5d55d1ed8b840ee8c7ed3c58e9a6cc0": {
     "views": [
      {
       "cell_index": 29
      }
     ]
    }
   },
   "version": "1.2.0"
  }
 },
 "nbformat": 4,
 "nbformat_minor": 1
}
